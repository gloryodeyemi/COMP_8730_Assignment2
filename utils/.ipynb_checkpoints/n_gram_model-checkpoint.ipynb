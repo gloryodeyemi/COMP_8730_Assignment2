{
 "cells": [
  {
   "cell_type": "code",
   "execution_count": 1,
   "id": "ce4f9cde",
   "metadata": {},
   "outputs": [],
   "source": [
    "import dill as pickle\n",
    "from nltk.lm import MLE\n",
    "from nltk.lm.preprocessing import padded_everygram_pipeline\n",
    "from nltk import word_tokenize \n",
    "import os.path"
   ]
  },
  {
   "cell_type": "code",
   "execution_count": 2,
   "id": "e7a6c62b",
   "metadata": {},
   "outputs": [],
   "source": [
    "# function to tokenize our corpus\n",
    "def tokenize_corpus(brown_corpus):\n",
    "    tokenized_sentences = []\n",
    "    for sentence in brown_corpus:\n",
    "        sentence = ' '.join(sentence)\n",
    "        tokenized_sentences.append(word_tokenize(sentence.lower()))\n",
    "    return tokenized_sentences"
   ]
  },
  {
   "cell_type": "code",
   "execution_count": 3,
   "id": "fd5227d4",
   "metadata": {},
   "outputs": [],
   "source": [
    "# functions to train, save, and load the model\n",
    "def train_model(n, tokenized_corpus):\n",
    "    train_data, padded_sentences = padded_everygram_pipeline(n, tokenized_corpus)\n",
    "    model = MLE(n)\n",
    "    model.fit(train_data, padded_sentences)\n",
    "    return model\n",
    "\n",
    "def save_model(n, model):\n",
    "    pickle.dump(model, open(os.path.join('models', f'{n}_ngram_model.pickle'), 'wb'))\n",
    "    \n",
    "def load_model(n):\n",
    "    loaded_model = pickle.load(open(os.path.join('models', f'{n}_ngram_model.pickle'), 'rb'))\n",
    "    return loaded_model"
   ]
  }
 ],
 "metadata": {
  "kernelspec": {
   "display_name": "Python 3 (ipykernel)",
   "language": "python",
   "name": "python3"
  },
  "language_info": {
   "codemirror_mode": {
    "name": "ipython",
    "version": 3
   },
   "file_extension": ".py",
   "mimetype": "text/x-python",
   "name": "python",
   "nbconvert_exporter": "python",
   "pygments_lexer": "ipython3",
   "version": "3.9.13"
  }
 },
 "nbformat": 4,
 "nbformat_minor": 5
}
